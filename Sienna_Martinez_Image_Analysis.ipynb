{
  "cells": [
    {
      "cell_type": "markdown",
      "source": [
        "##Introduction\n",
        "This project will look into training a model to analyze 60,000 images of handwritten numbers and classify them into the correct number that the handwritten number is intended to be. I will specifically be looking and the numbers 4 and 9 out of random. The goal of the project is to create a neural network that trains and tests data and analyze photos similar to how our brains would.\n",
        "\n",
        "The data set is called MNIST and is a popular data set used for image analysis that can be found here https://www.kaggle.com/datasets/hojjatk/mnist-dataset\n"
      ],
      "metadata": {
        "id": "IRD-sGDIgZFs"
      }
    },
    {
      "cell_type": "markdown",
      "source": [
        "Below is the code used to install the packacges and tools we need to complete the process."
      ],
      "metadata": {
        "id": "rgZTsfBUiUlh"
      }
    },
    {
      "cell_type": "code",
      "execution_count": 1,
      "metadata": {
        "colab": {
          "base_uri": "https://localhost:8080/"
        },
        "id": "fXVizf-1dGsB",
        "outputId": "8a0e52d0-3825-4a99-e531-7305e43739b9"
      },
      "outputs": [
        {
          "output_type": "stream",
          "name": "stdout",
          "text": [
            "Collecting keras_tuner\n",
            "  Downloading keras_tuner-1.4.7-py3-none-any.whl (129 kB)\n",
            "\u001b[?25l     \u001b[90m━━━━━━━━━━━━━━━━━━━━━━━━━━━━━━━━━━━━━━━━\u001b[0m \u001b[32m0.0/129.1 kB\u001b[0m \u001b[31m?\u001b[0m eta \u001b[36m-:--:--\u001b[0m\r\u001b[2K     \u001b[90m━━━━━━━━━━━━━━━━━━━━━━━━━━━━━━━━━━━━━━━━\u001b[0m \u001b[32m129.1/129.1 kB\u001b[0m \u001b[31m3.9 MB/s\u001b[0m eta \u001b[36m0:00:00\u001b[0m\n",
            "\u001b[?25hRequirement already satisfied: keras in /usr/local/lib/python3.10/dist-packages (from keras_tuner) (2.15.0)\n",
            "Requirement already satisfied: packaging in /usr/local/lib/python3.10/dist-packages (from keras_tuner) (24.0)\n",
            "Requirement already satisfied: requests in /usr/local/lib/python3.10/dist-packages (from keras_tuner) (2.31.0)\n",
            "Collecting kt-legacy (from keras_tuner)\n",
            "  Downloading kt_legacy-1.0.5-py3-none-any.whl (9.6 kB)\n",
            "Requirement already satisfied: charset-normalizer<4,>=2 in /usr/local/lib/python3.10/dist-packages (from requests->keras_tuner) (3.3.2)\n",
            "Requirement already satisfied: idna<4,>=2.5 in /usr/local/lib/python3.10/dist-packages (from requests->keras_tuner) (3.7)\n",
            "Requirement already satisfied: urllib3<3,>=1.21.1 in /usr/local/lib/python3.10/dist-packages (from requests->keras_tuner) (2.0.7)\n",
            "Requirement already satisfied: certifi>=2017.4.17 in /usr/local/lib/python3.10/dist-packages (from requests->keras_tuner) (2024.6.2)\n",
            "Installing collected packages: kt-legacy, keras_tuner\n",
            "Successfully installed keras_tuner-1.4.7 kt-legacy-1.0.5\n"
          ]
        }
      ],
      "source": [
        "!pip install keras_tuner"
      ]
    },
    {
      "cell_type": "code",
      "execution_count": 2,
      "metadata": {
        "id": "DiQIQQtPdMtP"
      },
      "outputs": [],
      "source": [
        "import keras\n",
        "import keras_tuner\n",
        "from keras import layers, regularizers\n",
        "from keras.optimizers.legacy import Adam\n",
        "from keras.callbacks import EarlyStopping, TensorBoard"
      ]
    },
    {
      "cell_type": "code",
      "execution_count": 3,
      "metadata": {
        "id": "Du1_hJlKcOq7"
      },
      "outputs": [],
      "source": [
        "from keras.datasets import mnist"
      ]
    },
    {
      "cell_type": "markdown",
      "source": [
        "Next I will load in my data known as \" MNIST\" ( populat image data set) and create a mask that filters specifically for my numbers of choice which are 4 and 9."
      ],
      "metadata": {
        "id": "SusE1aBqibvv"
      }
    },
    {
      "cell_type": "code",
      "execution_count": 7,
      "metadata": {
        "id": "LgvbnGPNdeq9"
      },
      "outputs": [],
      "source": [
        "(train_X, y_train), (test_X, y_test) = mnist.load_data()\n",
        "#loading in the data"
      ]
    },
    {
      "cell_type": "code",
      "source": [
        "mask_train = (y_train == 4) | (y_train == 9)\n",
        "mask_test = (y_test == 4) | (y_test == 9)\n",
        "# filtering data for only numbers 4 and 9"
      ],
      "metadata": {
        "id": "vO51xhGuY6lm"
      },
      "execution_count": 8,
      "outputs": []
    },
    {
      "cell_type": "code",
      "source": [
        "X_train_filtered = train_X[mask_train, :]\n",
        "X_test_filtered = test_X[mask_test, :]\n",
        "y_train_filtered = y_train[mask_train]\n",
        "y_test_filtered = y_test[mask_test]\n",
        "# assigning images to a test and train set for X and Y"
      ],
      "metadata": {
        "id": "apsv277GYs49"
      },
      "execution_count": 9,
      "outputs": []
    },
    {
      "cell_type": "code",
      "execution_count": 10,
      "metadata": {
        "colab": {
          "base_uri": "https://localhost:8080/"
        },
        "id": "byGvGJ1Oe9R6",
        "outputId": "f35d1753-1bf3-42d1-a45d-ca0cfc64b38a"
      },
      "outputs": [
        {
          "output_type": "stream",
          "name": "stdout",
          "text": [
            "X_train: (11791, 28, 28)\n",
            "Y_train: (11791,)\n",
            "X_test:  (1991, 28, 28)\n",
            "Y_test:  (1991,)\n"
          ]
        }
      ],
      "source": [
        "print('X_train: ' + str(X_train_filtered.shape))\n",
        "print('Y_train: ' + str(y_train_filtered.shape))\n",
        "print('X_test:  '  + str(X_test_filtered.shape))\n",
        "print('Y_test:  '  + str(y_test_filtered.shape))\n",
        "# this is what are values look like printed"
      ]
    },
    {
      "cell_type": "markdown",
      "metadata": {
        "id": "Gax5DE25nrHi"
      },
      "source": [
        "Above we can see that we are left only with our filtered images as the dataset has been significantly reduced from the origianl 60000 we started with.\n",
        "\n",
        "Below we are loading in the written number data set and are going to process the images to be easier to interpret. Below we are flattening the images into a 1D format instead of its original 2D format."
      ]
    },
    {
      "cell_type": "code",
      "source": [
        "X_train_filtered = X_train_filtered.reshape(X_train_filtered.shape[0], -1)"
      ],
      "metadata": {
        "id": "XLvo5VvsbdZn"
      },
      "execution_count": 21,
      "outputs": []
    },
    {
      "cell_type": "code",
      "execution_count": 22,
      "metadata": {
        "id": "VNUQarrNfUdG"
      },
      "outputs": [],
      "source": [
        "X_test_filtered = X_test_filtered.reshape(X_test_filtered.shape[0], -1)"
      ]
    },
    {
      "cell_type": "code",
      "execution_count": 24,
      "metadata": {
        "id": "H9HsfMUJfmXt"
      },
      "outputs": [],
      "source": [
        "X_train_filtered_norm = X_train_filtered / 255\n",
        "X_test_filtered_norm = X_test_filtered / 255"
      ]
    },
    {
      "cell_type": "markdown",
      "metadata": {
        "id": "6Qt_Jn1VoNee"
      },
      "source": [
        "##Training\n",
        "Below we are going to begin our classifier training which is going to assign the handwritten number immages to its corresponding labels.\n"
      ]
    },
    {
      "cell_type": "code",
      "execution_count": 25,
      "metadata": {
        "id": "vVZkINGafpN6"
      },
      "outputs": [],
      "source": [
        "from sklearn.linear_model import LogisticRegression\n",
        "\n",
        "model = LogisticRegression(\n",
        "                        fit_intercept=True,\n",
        "                        multi_class='auto',\n",
        "                        penalty='l2',\n",
        "                        solver='saga',\n",
        "                        max_iter=100,\n",
        "                        C=50\n",
        "                      )"
      ]
    },
    {
      "cell_type": "code",
      "execution_count": 26,
      "metadata": {
        "colab": {
          "base_uri": "https://localhost:8080/",
          "height": 129
        },
        "id": "8pX7fcb4f0HR",
        "outputId": "c67262b7-0c3a-4499-ea78-4ba4ad5269bc"
      },
      "outputs": [
        {
          "output_type": "stream",
          "name": "stderr",
          "text": [
            "/usr/local/lib/python3.10/dist-packages/sklearn/linear_model/_sag.py:350: ConvergenceWarning: The max_iter was reached which means the coef_ did not converge\n",
            "  warnings.warn(\n"
          ]
        },
        {
          "output_type": "execute_result",
          "data": {
            "text/plain": [
              "LogisticRegression(C=50, solver='saga')"
            ],
            "text/html": [
              "<style>#sk-container-id-1 {color: black;background-color: white;}#sk-container-id-1 pre{padding: 0;}#sk-container-id-1 div.sk-toggleable {background-color: white;}#sk-container-id-1 label.sk-toggleable__label {cursor: pointer;display: block;width: 100%;margin-bottom: 0;padding: 0.3em;box-sizing: border-box;text-align: center;}#sk-container-id-1 label.sk-toggleable__label-arrow:before {content: \"▸\";float: left;margin-right: 0.25em;color: #696969;}#sk-container-id-1 label.sk-toggleable__label-arrow:hover:before {color: black;}#sk-container-id-1 div.sk-estimator:hover label.sk-toggleable__label-arrow:before {color: black;}#sk-container-id-1 div.sk-toggleable__content {max-height: 0;max-width: 0;overflow: hidden;text-align: left;background-color: #f0f8ff;}#sk-container-id-1 div.sk-toggleable__content pre {margin: 0.2em;color: black;border-radius: 0.25em;background-color: #f0f8ff;}#sk-container-id-1 input.sk-toggleable__control:checked~div.sk-toggleable__content {max-height: 200px;max-width: 100%;overflow: auto;}#sk-container-id-1 input.sk-toggleable__control:checked~label.sk-toggleable__label-arrow:before {content: \"▾\";}#sk-container-id-1 div.sk-estimator input.sk-toggleable__control:checked~label.sk-toggleable__label {background-color: #d4ebff;}#sk-container-id-1 div.sk-label input.sk-toggleable__control:checked~label.sk-toggleable__label {background-color: #d4ebff;}#sk-container-id-1 input.sk-hidden--visually {border: 0;clip: rect(1px 1px 1px 1px);clip: rect(1px, 1px, 1px, 1px);height: 1px;margin: -1px;overflow: hidden;padding: 0;position: absolute;width: 1px;}#sk-container-id-1 div.sk-estimator {font-family: monospace;background-color: #f0f8ff;border: 1px dotted black;border-radius: 0.25em;box-sizing: border-box;margin-bottom: 0.5em;}#sk-container-id-1 div.sk-estimator:hover {background-color: #d4ebff;}#sk-container-id-1 div.sk-parallel-item::after {content: \"\";width: 100%;border-bottom: 1px solid gray;flex-grow: 1;}#sk-container-id-1 div.sk-label:hover label.sk-toggleable__label {background-color: #d4ebff;}#sk-container-id-1 div.sk-serial::before {content: \"\";position: absolute;border-left: 1px solid gray;box-sizing: border-box;top: 0;bottom: 0;left: 50%;z-index: 0;}#sk-container-id-1 div.sk-serial {display: flex;flex-direction: column;align-items: center;background-color: white;padding-right: 0.2em;padding-left: 0.2em;position: relative;}#sk-container-id-1 div.sk-item {position: relative;z-index: 1;}#sk-container-id-1 div.sk-parallel {display: flex;align-items: stretch;justify-content: center;background-color: white;position: relative;}#sk-container-id-1 div.sk-item::before, #sk-container-id-1 div.sk-parallel-item::before {content: \"\";position: absolute;border-left: 1px solid gray;box-sizing: border-box;top: 0;bottom: 0;left: 50%;z-index: -1;}#sk-container-id-1 div.sk-parallel-item {display: flex;flex-direction: column;z-index: 1;position: relative;background-color: white;}#sk-container-id-1 div.sk-parallel-item:first-child::after {align-self: flex-end;width: 50%;}#sk-container-id-1 div.sk-parallel-item:last-child::after {align-self: flex-start;width: 50%;}#sk-container-id-1 div.sk-parallel-item:only-child::after {width: 0;}#sk-container-id-1 div.sk-dashed-wrapped {border: 1px dashed gray;margin: 0 0.4em 0.5em 0.4em;box-sizing: border-box;padding-bottom: 0.4em;background-color: white;}#sk-container-id-1 div.sk-label label {font-family: monospace;font-weight: bold;display: inline-block;line-height: 1.2em;}#sk-container-id-1 div.sk-label-container {text-align: center;}#sk-container-id-1 div.sk-container {/* jupyter's `normalize.less` sets `[hidden] { display: none; }` but bootstrap.min.css set `[hidden] { display: none !important; }` so we also need the `!important` here to be able to override the default hidden behavior on the sphinx rendered scikit-learn.org. See: https://github.com/scikit-learn/scikit-learn/issues/21755 */display: inline-block !important;position: relative;}#sk-container-id-1 div.sk-text-repr-fallback {display: none;}</style><div id=\"sk-container-id-1\" class=\"sk-top-container\"><div class=\"sk-text-repr-fallback\"><pre>LogisticRegression(C=50, solver=&#x27;saga&#x27;)</pre><b>In a Jupyter environment, please rerun this cell to show the HTML representation or trust the notebook. <br />On GitHub, the HTML representation is unable to render, please try loading this page with nbviewer.org.</b></div><div class=\"sk-container\" hidden><div class=\"sk-item\"><div class=\"sk-estimator sk-toggleable\"><input class=\"sk-toggleable__control sk-hidden--visually\" id=\"sk-estimator-id-1\" type=\"checkbox\" checked><label for=\"sk-estimator-id-1\" class=\"sk-toggleable__label sk-toggleable__label-arrow\">LogisticRegression</label><div class=\"sk-toggleable__content\"><pre>LogisticRegression(C=50, solver=&#x27;saga&#x27;)</pre></div></div></div></div></div>"
            ]
          },
          "metadata": {},
          "execution_count": 26
        }
      ],
      "source": [
        "model.fit(X_train_filtered_norm, y_train_filtered)"
      ]
    },
    {
      "cell_type": "markdown",
      "source": [
        "Below we are going to make the prediction on the test set, calculating accuracy (% of correct classifications), and showing the confusion matrix"
      ],
      "metadata": {
        "id": "geqC4j9ajbV_"
      }
    },
    {
      "cell_type": "code",
      "execution_count": 27,
      "metadata": {
        "id": "KMTobZbjf4u_"
      },
      "outputs": [],
      "source": [
        "y_pred = model.predict(X_test_filtered_norm)"
      ]
    },
    {
      "cell_type": "code",
      "execution_count": 28,
      "metadata": {
        "colab": {
          "base_uri": "https://localhost:8080/"
        },
        "id": "bkpnR9lxf6wi",
        "outputId": "3c9093d7-aa1a-4e09-ab77-6ad120f1cd96"
      },
      "outputs": [
        {
          "output_type": "stream",
          "name": "stdout",
          "text": [
            "0.9723756906077348\n"
          ]
        }
      ],
      "source": [
        "accuracy = sum(y_pred == y_test_filtered) / len(y_test_filtered)\n",
        "print(accuracy)\n",
        "#percent of accuracy"
      ]
    },
    {
      "cell_type": "code",
      "execution_count": 29,
      "metadata": {
        "colab": {
          "base_uri": "https://localhost:8080/"
        },
        "id": "GSABr414f7ML",
        "outputId": "7db9d82f-18c0-4d0c-b0a4-bb60563674e9"
      },
      "outputs": [
        {
          "output_type": "stream",
          "name": "stdout",
          "text": [
            "[[957  25]\n",
            " [ 30 979]]\n"
          ]
        }
      ],
      "source": [
        "from sklearn.metrics import confusion_matrix\n",
        "cm = confusion_matrix(y_test_filtered, y_pred)\n",
        "print(cm)\n",
        "# are confusion matrix"
      ]
    },
    {
      "cell_type": "markdown",
      "metadata": {
        "id": "v1fYsS8Df_8K"
      },
      "source": [
        "##Neuronal Network Steps"
      ]
    },
    {
      "cell_type": "markdown",
      "source": [
        "Below is a helper function used to build a keras `model` object."
      ],
      "metadata": {
        "id": "Kg5PwrY2jwJp"
      }
    },
    {
      "cell_type": "code",
      "execution_count": 30,
      "metadata": {
        "id": "ShV4GhmVf_eT"
      },
      "outputs": [],
      "source": [
        "def define_model(units, num_layers, activation, lr, l2):\n",
        "    model_layers = [\n",
        "        layers.Dense(units, activation=activation, kernel_regularizer=regularizers.L2(l2=l2), kernel_initializer=keras.initializers.HeNormal())\n",
        "        ] * num_layers\n",
        "    model_layers += [layers.Dense(10)]\n",
        "    model = keras.Sequential(model_layers)\n",
        "    model.compile(loss=keras.losses.SparseCategoricalCrossentropy(from_logits=True), metrics=['accuracy'], optimizer=Adam(learning_rate=lr))\n",
        "\n",
        "    return model"
      ]
    },
    {
      "cell_type": "markdown",
      "source": [
        "Below is the code used to specify our parameters that we want our sweep to go over."
      ],
      "metadata": {
        "id": "1lH7hGVgkEAG"
      }
    },
    {
      "cell_type": "code",
      "source": [
        "def build_model(hp):\n",
        "    units = hp.Choice(\"units\", [256, 512])\n",
        "    activation = \"relu\"   # We'll just use ReLu for now\n",
        "    lr = hp.Float(\"lr\", min_value=1e-5, max_value=1e-1, sampling=\"log\")\n",
        "    l2 = hp.Float(\"l2\", min_value=1e-5, max_value=1e-1, sampling=\"log\")\n",
        "    num_layers = hp.Choice(\"num_layers\", [2, 3, 4])\n",
        "\n",
        "    model = define_model(units=units, num_layers=num_layers, activation=activation, lr=lr, l2=l2)\n",
        "    return model\n",
        "        # call existing model-building code with the hyperparameter values."
      ],
      "metadata": {
        "id": "fOHULlQUdu_C"
      },
      "execution_count": 34,
      "outputs": []
    },
    {
      "cell_type": "markdown",
      "source": [
        "Below I am going to link my drive"
      ],
      "metadata": {
        "id": "Qhq1Ov00kiY9"
      }
    },
    {
      "cell_type": "code",
      "execution_count": 35,
      "metadata": {
        "colab": {
          "base_uri": "https://localhost:8080/"
        },
        "id": "3zQsjWWnnMaz",
        "outputId": "13e82994-b735-4136-b35a-771213bac9b6"
      },
      "outputs": [
        {
          "output_type": "stream",
          "name": "stdout",
          "text": [
            "Drive already mounted at /content/drive; to attempt to forcibly remount, call drive.mount(\"/content/drive\", force_remount=True).\n"
          ]
        }
      ],
      "source": [
        "from google.colab import drive\n",
        "drive.mount('/content/drive')"
      ]
    },
    {
      "cell_type": "markdown",
      "source": [
        "Below is the code that is going to initialize our tuner object. I am going to provide the folder for my sweep data to load and store into."
      ],
      "metadata": {
        "id": "rX16FeykkmIb"
      }
    },
    {
      "cell_type": "code",
      "execution_count": 36,
      "metadata": {
        "id": "OVssUHGpnPc3"
      },
      "outputs": [],
      "source": [
        "tuner = keras_tuner.BayesianOptimization(\n",
        "    hypermodel= build_model,\n",
        "    objective=\"val_loss\",\n",
        "    max_trials=8,\n",
        "executions_per_trial=1,\n",
        "    overwrite=False,\n",
        "    directory=\"/content/Sienna MNIST Sweep\"\n",
        ")"
      ]
    },
    {
      "cell_type": "markdown",
      "source": [
        "Below is the code to do callbacks which is gonna chech for accuracy and other variables at the end of every trial run."
      ],
      "metadata": {
        "id": "MjwtcqRblOpr"
      }
    },
    {
      "cell_type": "code",
      "execution_count": 37,
      "metadata": {
        "id": "WavMWwPXnZYh"
      },
      "outputs": [],
      "source": [
        "callbacks = [EarlyStopping(monitor=\"val_loss\", patience=2, restore_best_weights=True, start_from_epoch=4)]\n",
        "# call back"
      ]
    },
    {
      "cell_type": "code",
      "execution_count": 38,
      "metadata": {
        "colab": {
          "base_uri": "https://localhost:8080/"
        },
        "id": "vegOlNMjndWG",
        "outputId": "a10659b6-6caa-4448-c190-770f8b8d8cf7"
      },
      "outputs": [
        {
          "output_type": "stream",
          "name": "stdout",
          "text": [
            "Trial 8 Complete [00h 00m 22s]\n",
            "val_loss: 0.03786658123135567\n",
            "\n",
            "Best val_loss So Far: 0.03786658123135567\n",
            "Total elapsed time: 00h 03m 16s\n"
          ]
        }
      ],
      "source": [
        "tuner.search(\n",
        "    X_train_filtered_norm,\n",
        "    y_train_filtered,\n",
        "    epochs=8,\n",
        "    verbose=1,\n",
        "    validation_data=(X_test_filtered_norm, y_test_filtered),\n",
        "    callbacks=callbacks\n",
        ")"
      ]
    },
    {
      "cell_type": "code",
      "execution_count": 39,
      "metadata": {
        "id": "PbkYeTQanjAG",
        "colab": {
          "base_uri": "https://localhost:8080/"
        },
        "outputId": "7c85cd06-2861-4df3-ab69-60acd3d4fb87"
      },
      "outputs": [
        {
          "output_type": "stream",
          "name": "stdout",
          "text": [
            "Results summary\n",
            "Results in /content/Sienna MNIST Sweep/untitled_project\n",
            "Showing 5 best trials\n",
            "Objective(name=\"val_loss\", direction=\"min\")\n",
            "\n",
            "Trial 7 summary\n",
            "Hyperparameters:\n",
            "units: 256\n",
            "lr: 0.0010488706051187259\n",
            "l2: 2.632986692186152e-05\n",
            "num_layers: 4\n",
            "Score: 0.03786658123135567\n",
            "\n",
            "Trial 5 summary\n",
            "Hyperparameters:\n",
            "units: 512\n",
            "lr: 0.0023592579903517264\n",
            "l2: 1.828289374791153e-05\n",
            "num_layers: 4\n",
            "Score: 0.042577698826789856\n",
            "\n",
            "Trial 0 summary\n",
            "Hyperparameters:\n",
            "units: 512\n",
            "lr: 0.0036164835628463956\n",
            "l2: 9.50349274910234e-05\n",
            "num_layers: 3\n",
            "Score: 0.05388177931308746\n",
            "\n",
            "Trial 6 summary\n",
            "Hyperparameters:\n",
            "units: 256\n",
            "lr: 3.2137021600125945e-05\n",
            "l2: 3.199557829068188e-05\n",
            "num_layers: 2\n",
            "Score: 0.09823992848396301\n",
            "\n",
            "Trial 1 summary\n",
            "Hyperparameters:\n",
            "units: 512\n",
            "lr: 0.006596180810736199\n",
            "l2: 0.002686256410508101\n",
            "num_layers: 2\n",
            "Score: 0.102649986743927\n"
          ]
        }
      ],
      "source": [
        "tuner.results_summary(5)\n",
        "# looking at the results of our best of the 8 trials"
      ]
    },
    {
      "cell_type": "markdown",
      "source": [
        "According to the Var loss factors our 7th trial is consedered our best one so we are going to store the data from that one into the linked file and this is what we are going to use to make our predicitons."
      ],
      "metadata": {
        "id": "1vrIZUGelkli"
      }
    },
    {
      "cell_type": "code",
      "execution_count": 40,
      "metadata": {
        "id": "dJbCvocsnkOU",
        "colab": {
          "base_uri": "https://localhost:8080/"
        },
        "outputId": "db57201a-b015-411b-fa41-d7113f2cbc07"
      },
      "outputs": [
        {
          "output_type": "execute_result",
          "data": {
            "text/plain": [
              "<tensorflow.python.checkpoint.checkpoint.CheckpointLoadStatus at 0x79485c9b2710>"
            ]
          },
          "metadata": {},
          "execution_count": 40
        }
      ],
      "source": [
        "import json\n",
        "from sklearn.metrics import confusion_matrix\n",
        "\n",
        "trial_num = \"7\"\n",
        "with open(f\"/content/Sienna MNIST Sweep/untitled_project/trial_{trial_num}/trial.json\", \"r\") as f:\n",
        "    trial = json.load(f)\n",
        "hp = trial[\"hyperparameters\"][\"values\"]\n",
        "model = define_model(units=hp[\"units\"], num_layers=hp[\"num_layers\"], activation=\"relu\", lr=hp[\"lr\"],\n",
        "                     l2=hp[\"l2\"])\n",
        "model.load_weights(f\"/content/Sienna MNIST Sweep/untitled_project/trial_{trial_num}/checkpoint\")"
      ]
    },
    {
      "cell_type": "markdown",
      "source": [
        "Below is the final confusion matrix for checking our dataset based on our most significant test trial done from or neural network."
      ],
      "metadata": {
        "id": "DR-odMywl3wS"
      }
    },
    {
      "cell_type": "code",
      "source": [
        "import numpy as np\n",
        "y_pred = np.argmax(model.predict(X_test_filtered_norm), axis=1)\n",
        "cm = confusion_matrix(y_test_filtered, y_pred)\n",
        "accuracy = sum(y_pred == y_test_filtered) / len(y_test_filtered)\n",
        "print(accuracy)\n",
        "print(cm)"
      ],
      "metadata": {
        "colab": {
          "base_uri": "https://localhost:8080/"
        },
        "id": "Iye3k-u8fspR",
        "outputId": "e7cf551b-02a9-4510-ae61-e1453cffc92d"
      },
      "execution_count": 41,
      "outputs": [
        {
          "output_type": "stream",
          "name": "stdout",
          "text": [
            "63/63 [==============================] - 1s 7ms/step\n",
            "0.9899547965846308\n",
            "[[ 970   12]\n",
            " [   8 1001]]\n"
          ]
        }
      ]
    },
    {
      "cell_type": "markdown",
      "source": [
        "##Analysis\n",
        "In my analysis, I successfully developed a neural network-based image classification algorithm specifically designed to distinguish between the digits 4 and 9 in the MNIST dataset. By carefully filtering the data, defining the model, and training it, we achieved high accuracy in recognizing these particular handwritten digits. This achievement highlights the power of neural networks in focused image classification tasks and showcases their practical applicability in various domains."
      ],
      "metadata": {
        "id": "C_uxmertmSuo"
      }
    }
  ],
  "metadata": {
    "colab": {
      "provenance": []
    },
    "kernelspec": {
      "display_name": "Python 3",
      "name": "python3"
    },
    "language_info": {
      "name": "python"
    }
  },
  "nbformat": 4,
  "nbformat_minor": 0
}